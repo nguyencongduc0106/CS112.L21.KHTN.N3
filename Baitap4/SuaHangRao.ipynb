{
  "nbformat": 4,
  "nbformat_minor": 0,
  "metadata": {
    "colab": {
      "name": "SuaHangRao.ipynb",
      "provenance": []
    },
    "kernelspec": {
      "name": "python3",
      "display_name": "Python 3"
    },
    "language_info": {
      "name": "python"
    }
  },
  "cells": [
    {
      "cell_type": "markdown",
      "metadata": {
        "id": "0sh1jBu_Bc1T"
      },
      "source": [
        "# **SỬA HÀNG RÀO**"
      ]
    },
    {
      "cell_type": "markdown",
      "metadata": {
        "id": "uQu3511wBfcC"
      },
      "source": [
        "# **Đề bài**\n",
        "Sau khi dựng xong nhà kho chứa cỏ, dì Poly quyết định dùng **m** tấm gỗ còn thừa gia cố hàng rào của vườn rau ngăn không cho gà vào phá và giao công việc này cho Tôm và Hấc Phin làm. Nhiệm vụ của hai cậu bé tội nghiệp là đóng thêm vào các tấm ván hàng rào để có hàng rào mới càng cao càng tốt. Nhìn vẽ mặt buồn thiu và lóng ngóng của 2 đứa Jim quyết định sẽ làm giúp. Hàng rào được ghép từ **n** tấm gỗ cùng độ rộng như nhau và bằng độ rộng của các tấm gỗ còn thừa, tấm thứ **i** có độ cao **$a_i$**, **i** = 1 ÷ **n**. Tôm và Hấc Phin chỉ phải xếp các tấm còn thừa lên xe ba gác để Jim kéo đi. Các tấm gỗ được xếp thành một chồng, tính từ trên xuống tấm thứ **j** có độ dài **$b_j$**, **j** = 1 ÷ **m**. Jim kéo xe ba gác đi dọc theo hàng rào. Đến một tấm nào đó muốn gia cố Jim sẽ lấy một tấm gỗ từ xe đóng tiếp lên tấm gỗ trên hàng rào và độ cao mới của tấm này trên hàng rào sẽ là tổng độ cao của tấm cũ và tấm mới đóng thêm. Jim chỉ đóng thêm một tấm mới vào tấm cũ vì muốn đảm bảo độ chắc chắn của hàng rào. Jim có thể lấy tấm trên cùng ở xe hoặc vất ra khỏi xe một số tấm cho đến khi gặp tấm vừa ý. Người ta vẫn nói “Khôn đâu tới trẻ, khỏe đâu tới già!”  Jim đã đứng tuổi và không còn sức để xếp lại các tấm gỗ bị bỏ ra vào xe. Ngoài ra, Jim cũng khá mê tín nên không quay lại lấy những tấm đã loại.\n",
        "\n",
        "Hãy xác định độ cao lớn nhất có thể đạt được của hàng rào sau khi gia cố. Độ cao của hàng rào được tính bằng độ cao tấm gỗ thấp nhất trên hàng rào.\n",
        "\n",
        "**Dữ liệu:** Vào từ thiết bị nhập chuẩn:\n",
        "\n",
        "Dòng đầu tiên chứa số nguyên **n** (1 ≤ **n** ≤ $10^5$),\n",
        "\n",
        "Dòng thứ 2 chứa **n** số nguyên **$a_1$**, **$a_2$**, . . ., **$a_n$** (1 ≤ **$a_i$** ≤ $10^8$, **i** = 1 ÷ **n**),\n",
        "\n",
        "Dòng thứ 3 chứa số nguyên **m**  (1 ≤ **m** ≤ $10^5$),\n",
        "\n",
        "Dòng cuối cùng chứa **m** số nguyên **$b_1$**, **$b_2$**, . . ., **$b_m$** (1 ≤ **$b_j$** ≤ $10^8$, **j** = 1÷ **m**).\n",
        "\n",
        "**Kết quả:** Đưa ra thiết bị xuất chuẩn, dòng đầu tiên chứa 2 số nguyên **h** và **k** – độ cao lớn nhất có thể của hàng rào và số tấm gỗ đã được đóng thêm, mỗi dòng trong **k** dòng tiếp theo chứa 2 số nguyên **x** và **y**, trong đó **x** – tấm gỗ trên hàng rào được đóng cao hơn, **y** – tấm gỗ được dùng để đóng. Đưa ra phương án có các số hiệu tấm ván được chọn là nhỏ nhất nếu tồn tại nhiều cách đóng khác nhau.\n"
      ]
    },
    {
      "cell_type": "markdown",
      "metadata": {
        "id": "4jgN9giDCh0c"
      },
      "source": [
        "# **I.Abstraction**\n",
        "Tìm cách chọn các phần tử của mảng b cộng vào các phần tử thuộc mảng a sao cho phần tử nhó nhất của mảng a có giá trị lớn nhất, chọn theo quy tắc duyệt mảng  lần lượt theo chỉ số từ nhỏ tới lớn, đến phần tử thứ i của mảng b có quyền chọn để cộng vào phần tử đang xét của mảng a (cũng duyệt theo thứ tự chỉ số tăng dần)hay không và khi đã bỏ qua thì không được quyền chọn lại"
      ]
    },
    {
      "cell_type": "markdown",
      "metadata": {
        "id": "Mfcc6bKTCkrS"
      },
      "source": [
        "# **II.Pattern Recognition**\n",
        "Sủ dụng Binary Search (tìm kiếm nhị phân)"
      ]
    },
    {
      "cell_type": "markdown",
      "metadata": {
        "id": "kObJ7eEgCnaD"
      },
      "source": [
        "# **III.Algorithm Design**\n"
      ]
    },
    {
      "cell_type": "markdown",
      "metadata": {
        "id": "NDbUxAlLCp-7"
      },
      "source": [
        "# **IV.Đánh giá độ phức tạp**"
      ]
    },
    {
      "cell_type": "markdown",
      "metadata": {
        "id": "UUzSadoR4Jfg"
      },
      "source": [
        "# **V.Programming**"
      ]
    },
    {
      "cell_type": "code",
      "metadata": {
        "id": "RFIGxbhRcAPo"
      },
      "source": [
        "import sys\n",
        "def get(x, n, m, wall, add):\n",
        "    i=0\n",
        "    j=0\n",
        "    for w in wall:\n",
        "        if w < x:\n",
        "            while((j < m) and (add[j] + w < x)):\n",
        "                j += 1\n",
        "            j += 1\n",
        "    if j > m: \n",
        "      return False\n",
        "    return True\n",
        "def getResult(x, n, m, wall, add):\n",
        "    # resx = []\n",
        "    # resy = []\n",
        "    result = \"\"\n",
        "    k = 0\n",
        "    i, j = 0, 0\n",
        "    while(i < n):\n",
        "        if j >= m: break\n",
        "        if wall[i] < x:\n",
        "            while(j < m and add[j] + wall[i] < x): j += 1\n",
        "            # resx.append(i + 1)\n",
        "            # resy.append(j + 1)\n",
        "            k += 1\n",
        "            result += str(i + 1) + \" \" + str(j + 1) + '\\n'\n",
        "            j += 1\n",
        "        i += 1    \n",
        "\n",
        "    sys.stdout.write(str(x) + \" \" + str(k) + '\\n')\n",
        "    sys.stdout.write(result)\n",
        "def Solution():\n",
        "    n = int(sys.stdin.readline())\n",
        "    wall = list(map(int, sys.stdin.readline().strip().split()))\n",
        "    m = int(sys.stdin.readline())\n",
        "    add = list(map(int, sys.stdin.readline().strip().split()))\n",
        "    left = min(wall)\n",
        "    right = left + max(add)\n",
        "    while(left <= right):\n",
        "        mid = (left + right) // 2\n",
        "        if(get(mid, n, m, wall, add)):\n",
        "            left = mid + 1\n",
        "        else:\n",
        "            right = mid - 1\n",
        "    getResult(right, n, m, wall, add)\n",
        "Solution()"
      ],
      "execution_count": null,
      "outputs": []
    }
  ]
}