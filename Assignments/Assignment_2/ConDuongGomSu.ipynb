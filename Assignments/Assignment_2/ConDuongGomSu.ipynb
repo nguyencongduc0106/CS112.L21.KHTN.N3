{
  "nbformat": 4,
  "nbformat_minor": 0,
  "metadata": {
    "colab": {
      "name": "ConDuongGomSu.ipynb",
      "provenance": []
    },
    "kernelspec": {
      "name": "python3",
      "display_name": "Python 3"
    },
    "language_info": {
      "name": "python"
    }
  },
  "cells": [
    {
      "cell_type": "markdown",
      "metadata": {
        "id": "0sh1jBu_Bc1T"
      },
      "source": [
        "# **Con Đường Gốm Sứ**"
      ]
    },
    {
      "cell_type": "markdown",
      "metadata": {
        "id": "uQu3511wBfcC"
      },
      "source": [
        "# **Đề bài**\n",
        "Sau khi bê tông hóa đê chống lụt, thành phố quyết định cho khảm lên tường bê tông của đê tranh ghép tạo bởi các mảnh gốm sứ lấy từ các lò gốm nổi tiếng trong nước. Toàn bộ con đê được chia thành **n** phần có độ rộng giống nhau, mỗi phần gọi là một lô. Mỗi bức tranh khảm trên đó đều phải có độ rộng giống nhau, tức là bao gồm một số như nhau các lô liên tiếp và toàn bộ tường phải được phủ kín tranh từ đầu đến cuối, mỗi lô phải được tạo màu chủ đạo (gọi là màu của lô) từ một loại gốm đặc trưng lấy từ một lò gốm nào đó trong nước, ví dụ gốm màu xanh Cô ban từ lò gốm Ánh Hồng Quảng Ninh, gốm da lươn – từ Bát Tràng Hà Nội, gốm mộc hồng nhạt – từ Biên Hòa Đồng Nai, . . . Các loại gốm này được đánh số từ 1 đến 50 000.\n",
        "\n",
        "Hướng dẫn viên du lịch giới thiệu với khách tham quan là có 2 nhóm nghệ nhân được giao việc tạo hình và khảm tranh. Với mỗi nhóm các bức tranh của đều được đặc trưng bởi dãy số ($c_1$, $c_2$, . . ., $c_k$), trong đó **k** là độ rộng của tranh, $c_i$ – màu của lô, **i** = 1 ÷ **k**, các bức tranh khác nhau có thể khác nhau ở trình tự xuất hiện màu của các lô, ví dụ với dãy số đặc trưng (2, 6, 2, 9), trình tự màu trong tranh có thể là (9, 2, 2, 6) hoặc (6, 9, 2, 2) nhưng không thể là (6, 9, 2, 3). Dãy đặc trưng của 2 nhóm là khác nhau, tức là không thể bằng phép hoán vị trình tự màu của lô để đưa một dãy về dãy kia. Các bức tranh được ghép với nhau rất hài hòa và khách tham quan không nhận biết được sự chuyển tiếp từ tranh này sang tranh khác. Tuy vậy nhiều khách tham quan vẫn muốn biết có bao nhiêu bức tranh đã tạo ra và trong đó số bức tranh của mỗi nhóm là bao nhiêu.\n",
        "\n",
        "Hãy xác định số lượng tranh có thể có và số lượng tranh mỗi nhóm đã làm. biết rằng nhóm nào cũng có tranh của mình.\n",
        "\n",
        "**Dữ liệu:**\n",
        "\n",
        "Dòng đầu tiên chứa một số nguyên **n** – số lượng lô của con đê (2 ≤ n ≤ $10^5$),\n",
        "Dòng thứ 2 chứa n số nguyên $a_1$, $a_2$, . . ., $a_n$ – màu của các lô (1 ≤ $a_i$ ≤ 50 000, **i** = 1 ÷ **n**).\n",
        "\n",
        "**Kết quả:** dòng đầu tiên chứa số nguyên **m** – số lượng phương án khác nhau chia con đường thành các bức tranh, nếu không có cách phân chia để đảm bảo phân biệt tranh của đúng 2 nhóm thì đưa ra số -1. Nếu có cách phân biệt thì ở mỗi dòng tiếp theo đưa ra 3 số nguyên **k**, **p** và **q** – độ rộng bức tranh, số tranh do nhóm 1 thực hiện và số tranh do nhóm 2 thực hiện, thông tin đưa ra theo thứ tự tăng dần của **k** và ở mỗi dòng có **p** ≥ **q** > 0.\n"
      ]
    },
    {
      "cell_type": "markdown",
      "metadata": {
        "id": "4jgN9giDCh0c"
      },
      "source": [
        "# **I.Abstraction**\n",
        "Input: mảng a có n phần tử, tìm số cách chia sao cho khi chia mảng a thành i phần bằng nhau (1 ≤ i ≤ n, n%i=0) thì sẽ tồn tại đúng 2 mảng (có n/i phần tử) sao cho   a[i] bất kì sẽ thuộc hoán vị của 1 trong 2 mảng đó "
      ]
    },
    {
      "cell_type": "markdown",
      "metadata": {
        "id": "Mfcc6bKTCkrS"
      },
      "source": [
        "# **II.Pattern Recognition**\n",
        "Sử dụng bảng băm, áp dụng tính chất so sánh của 2 dictionaries để kiểm tra hoán vị"
      ]
    },
    {
      "cell_type": "markdown",
      "metadata": {
        "id": "kObJ7eEgCnaD"
      },
      "source": [
        "# **III.Algorithm Design**\n",
        "**Bước 1:** Nhập mảng a có n phần tử\n",
        "\n",
        "**Bước 2:** Tạo mảng s, tạo y=0\n",
        "\n",
        "**Bươc 3:** Xét từng phần tử i trong dãy từ 1 đến n//2+1: Nếu n%i=0 thì sang bước 4, ngược lại xét phần tử tiếp theo. Đến khi xét hết phần tử chuyển sang bước 7\n",
        "\n",
        "**Bước 4:** Tạo 2 dict array1, array2, gán k=0, array1_inbdex=0, array2_inbdex=0\n",
        "\n",
        "**Bước 5**: Xét từng phần tử j trong (0,n,i): \n",
        "\n",
        "●Tạo dict b lưu số lần xuất hiện của các phần tử trong dãy con có i phần tử đang xét\n",
        "\n",
        "●Nếu array1 rỗng:\n",
        "\n",
        "+Nếu array2 rỗng thì lưu array2=b và array_2+=1\n",
        "+Ngược lại thì chạy hàm KT(array2,b). Nếu kết quả là True thì array2_index+=1, ngược lại thì lưu array1=b và array1_index+=1\n",
        "\n",
        "●Nếu array1 không rỗng: \n",
        "Chạy hàm KT(array1,b). Nếu kết quả là True thì array1_index+=1. Ngược lại thì chạy hàm KT(array2,b). Nếu kết quả là True thì array2_index+=1, ngược lại i ko thỏa, gán k=-1\n",
        "\n",
        "**Bước 6:** Nếu k=0 và array1_index*array2_index!=0 thì nạp [i,array2_index,array1_index] vào mảng s, y+=1\n",
        "\n",
        "Quay lại bước 3\n",
        "\n",
        "Bước 7: Nếu y=0 thì xuất -1 và kết thúc. Ngược lại xuất giá trị y và xuất mảng s\n",
        "\n",
        "\n",
        "\n",
        "\n",
        "\n",
        "\n"
      ]
    },
    {
      "cell_type": "markdown",
      "metadata": {
        "id": "NDbUxAlLCp-7"
      },
      "source": [
        "# **IV.Đánh giá độ phức tạp:** O(n)"
      ]
    },
    {
      "cell_type": "markdown",
      "metadata": {
        "id": "KV1qm6KbCujD"
      },
      "source": [
        "# **V.Programming**\n"
      ]
    },
    {
      "cell_type": "code",
      "metadata": {
        "colab": {
          "base_uri": "https://localhost:8080/"
        },
        "id": "IRQMTl92CwzD",
        "outputId": "5b86fa03-c554-4499-f69e-eb84e464bad8"
      },
      "source": [
        "n = int(input())\n",
        "a=[int(x) for x in input().split()]\n",
        "def KT(array,temp):\n",
        "  if len(array) != len(temp):\n",
        "        return False\n",
        "  for i in temp:\n",
        "    if(i in array):\n",
        "      if(array[i]!=temp[i]):\n",
        "        return False\n",
        "    else:\n",
        "      return False\n",
        "  return True\n",
        "s=[]\n",
        "y=0\n",
        "for i in range(1,n//2+1):\n",
        "  if((n%i)==0):\n",
        "    k=0\n",
        "    array1=dict()\n",
        "    array2=dict()\n",
        "    array1_index=0\n",
        "    array2_index=0\n",
        "    for j in range(0,n,i):\n",
        "      b=dict()\n",
        "      for k in a[j:j+i]:\n",
        "        if k in b:\n",
        "          b[k] += 1\n",
        "        else:\n",
        "          b[k] = 1\n",
        "      if len(array1)==0:\n",
        "        if len(array2)==0:\n",
        "          array2=b\n",
        "          array2_index+=1\n",
        "        else:\n",
        "          if(KT(array2,b)):\n",
        "            array2_index+=1\n",
        "          else:\n",
        "            array1=b\n",
        "            array1_index+=1\n",
        "      else:\n",
        "        if(KT(array1,b)):\n",
        "          array1_index+=1\n",
        "        elif (KT(array2,b)):\n",
        "          array2_index+=1\n",
        "        else:\n",
        "          k=-1\n",
        "          break\n",
        "    if(k==-1):\n",
        "      pass\n",
        "    else: \n",
        "      if(array1_index*array2_index!=0):\n",
        "        s.append([i,array2_index,array1_index])\n",
        "        y+=1\n",
        "if(y==0):\n",
        "  print(-1)\n",
        "else:\n",
        "  print(y)\n",
        "  for i in s:\n",
        "    print(i[0],i[1],i[2])"
      ],
      "execution_count": null,
      "outputs": [
        {
          "output_type": "stream",
          "text": [
            "9\n",
            "1 2 3 6 4 9 3 1 2\n",
            "1\n",
            "3 2 1\n"
          ],
          "name": "stdout"
        }
      ]
    }
  ]
}