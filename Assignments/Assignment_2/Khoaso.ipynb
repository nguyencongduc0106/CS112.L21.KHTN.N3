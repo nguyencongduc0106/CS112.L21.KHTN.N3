{
  "nbformat": 4,
  "nbformat_minor": 0,
  "metadata": {
    "colab": {
      "name": "Khoaso.ipynb",
      "provenance": []
    },
    "kernelspec": {
      "name": "python3",
      "display_name": "Python 3"
    },
    "language_info": {
      "name": "python"
    }
  },
  "cells": [
    {
      "cell_type": "markdown",
      "metadata": {
        "id": "3-unfI-rWYHT"
      },
      "source": [
        "# **Khóa số**"
      ]
    },
    {
      "cell_type": "markdown",
      "metadata": {
        "id": "AtrL99xGWbc1"
      },
      "source": [
        "# **Đề bài**\n",
        "Để tăng độ an toàn chống hiện tượng cướp ngân hàng ngày càng phổ biến người ta dùng khóa số với mã mở khóa đơn giản nhưng rất hiệu quả. Trên cửa ra vào hiển thị một xâu khá dài các ký tự số. Các chữ số có thể di chuyển đổi chổ cho nhau hoặc bị xóa. Muốn mở khóa người ta phải di chuyển các chữ số và trong trường hợp cần thiết – xóa vài chữ số để nhận được xâu lớn nhất thỏa mãn điều kiện đã cài đặt. Điều kiện này được thay đổi thường xuyên. Hôm nay điều kiện đó là “Số nhận được phải chia hết cho 3”. Số nhận được có thể bắt đầu bằng các chữ số 0. Xâu “000” sẽ lớn hơn xâu “00”.\n",
        "\n",
        "Hãy xác định khóa mở cửa.\n",
        "\n",
        "**Dữ liệu:** Vào từ thiết bị nhập chuẩn gồm một xâu ký tự số có độ dài lớn hơn 2 và không vượt quá $10^5$.\n",
        "\n",
        "**Kết quả:** Đưa ra thiết bị xuất chuẩn xâu khóa mở cửa."
      ]
    },
    {
      "cell_type": "markdown",
      "metadata": {
        "id": "rq2RTOR2WpNw"
      },
      "source": [
        "# **I.Abstraction**\n",
        "Input: chuỗi kí tự số n, tìm n max sao cho n%3=0, có thể đảo các chữ số, xóa chữ số trong n; n được quyền bắt đầu bằng số 0, 000 được tính lớn hơn 00\n"
      ]
    },
    {
      "cell_type": "markdown",
      "metadata": {
        "id": "IrNfkOjyX02T"
      },
      "source": [
        "# **II.Pattern Recognition**\n",
        "Sử dụng bảng băm để quản lí giá trị các cặp key:value \n",
        "\n",
        "Sử dụng tính chất của số dư trong phép chia cho 3"
      ]
    },
    {
      "cell_type": "markdown",
      "metadata": {
        "id": "W2iCcqQbYUXj"
      },
      "source": [
        "# **III.Algorithm Design**\n",
        "**Bước 1:** b=Counter(n)\n",
        "\n",
        "**Bước 2:** Gán c = tổng các chữ số trong n\n",
        "\n",
        "**Bước 3:** c=c%3\n",
        "\n",
        "**Bước 4:** Nếu c=1:\n",
        "\n",
        "● Nếu b[\"1\"]+b[\"4\"]+b[\"7\"]>0: Xét i lần lượt trong [\"1\",\"4\",\"7\"], nếu b[i]>0 thì b[i]=b[i]-1 và sang bước 10. Ngược lại sang bước 5\n",
        "\n",
        "● Ngược lại sang bước 7\n",
        "\n",
        "**Bước 5:** Gán e=2, i=2\n",
        "\n",
        "**Bước 6:**\n",
        "\n",
        "    while (e != 0):\n",
        "      if (b[str(i)] > 0):\n",
        "        b[str(i)] = b[str(i)] - 1\n",
        "        e = e - 1\n",
        "      else:\n",
        "        i = i + 3\n",
        "Sau đó sang bước 10\n",
        "\n",
        "**Bước 7:** Nếu c=2:\n",
        "\n",
        "● Nếu b[\"2\"]+b[\"5\"]+b[\"8\"]>0: Xét i lần lượt trong [\"2\",\"5\",\"8\"], nếu b[i]>0 thì b[i]=b[i]-1 và sang bước 10. Ngược lại sang bước 8 \n",
        "\n",
        "● Ngược lại sang bước 10\n",
        "\n",
        "**Bước 8:** Gán e=2,i=1\n",
        "\n",
        "**Bước 9:**\n",
        "\n",
        "    while (e != 0):\n",
        "      if (b[str(i)] > 0):\n",
        "        b[str(i)] = b[str(i)] - 1\n",
        "        e = e - 1\n",
        "      else:\n",
        "        i = i + 3\n",
        "**Bước 10:** Xuất các key giảm dần và mỗi key xuất số lần = số value tương ứng. Ta được chuỗi cần tìm\n",
        "\n",
        "\n",
        "  \n",
        "\n"
      ]
    },
    {
      "cell_type": "markdown",
      "metadata": {
        "id": "taAo5aF9Ydhi"
      },
      "source": [
        "# **IV.Đánh giá độ phức tạp:** O(n)"
      ]
    },
    {
      "cell_type": "markdown",
      "metadata": {
        "id": "gdQr1Zy5Yif7"
      },
      "source": [
        "# **V.Programming**\n"
      ]
    },
    {
      "cell_type": "code",
      "metadata": {
        "id": "zrSvQq30Ylr7"
      },
      "source": [
        "from sys import stdin, stdout\n",
        "from collections import Counter\n",
        "n = stdin.readline().strip()\n",
        "b = Counter(n)\n",
        "c=0\n",
        "for i in b.keys():\n",
        "    c=c+b[i]*int(i)\n",
        "c=c%3\n",
        "if (c==1):\n",
        "    if(b[\"1\"]+b[\"4\"]+b[\"7\"]>0 ):\n",
        "        if(b[\"1\"]>0):\n",
        "          b[\"1\"]=b[\"1\"]-1\n",
        "        elif (b[\"4\"]>0):\n",
        "          b[\"4\"]=b[\"4\"]-1\n",
        "        else:\n",
        "          b[\"7\"]=b[\"7\"]-1\n",
        "    else:\n",
        "      e = 2\n",
        "      i = 2\n",
        "      while (e != 0):\n",
        "        if (b[str(i)] > 0):\n",
        "          b[str(i)] = b[str(i)] - 1\n",
        "          e = e - 1\n",
        "        else:\n",
        "          i = i + 3\n",
        "if (c==2):\n",
        "    if(b[\"2\"]+b[\"5\"]+b[\"8\"]>0 ):\n",
        "        if(b[\"2\"]>0):\n",
        "          b[\"2\"]=b[\"2\"]-1\n",
        "        elif (b[\"5\"]>0):\n",
        "          b[\"5\"]=b[\"5\"]-1\n",
        "        else:\n",
        "          b[\"8\"]=b[\"8\"]-1\n",
        "    else:\n",
        "      e=2\n",
        "      i=1\n",
        "      while (e!=0):\n",
        "          if(b[str(i)]>0):\n",
        "            b[str(i)] = b[str(i)] - 1\n",
        "            e = e - 1\n",
        "          else:\n",
        "            i=i+3\n",
        "\n",
        "for i in sorted(b.keys(), reverse=True):\n",
        "    stdout.write(i * b[i])"
      ],
      "execution_count": 1,
      "outputs": []
    }
  ]
}