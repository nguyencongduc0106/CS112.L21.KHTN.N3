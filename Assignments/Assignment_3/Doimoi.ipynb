{
  "nbformat": 4,
  "nbformat_minor": 0,
  "metadata": {
    "colab": {
      "name": "Doimoi.ipynb",
      "provenance": []
    },
    "kernelspec": {
      "name": "python3",
      "display_name": "Python 3"
    },
    "language_info": {
      "name": "python"
    }
  },
  "cells": [
    {
      "cell_type": "markdown",
      "metadata": {
        "id": "bnXvapcxI9OQ"
      },
      "source": [
        "# **ĐỔI MỚI**\n",
        "\n",
        "**ĐỀ BÀI**\n",
        "\n",
        "Thành phố quyết định chặt hạ hết **n** cây xanh hiện có trong thành phố để trồng chỉ một loại cây mới. Nhiệm vụ được giao cho Công ty Cây xanh thành phố. Do hạn chế về thiết bị Công ty chỉ tổ chức được 2 đội đốn hạ cây. Đội I hạ được **a** cây mỗi ngày, nhưng cứ mối ngày thứ **k** thì phải nghỉ để bảo dưỡng kỹ thuật, tức là đội I sẽ nghỉ vào các ngày **k**, 2**k**, 3**k**, . . . Đội II hạ được **b** cây mỗi ngày, nhưng cứ mỗi ngày thứ **m** thì phải nghỉ để bảo dưỡng kỹ thuật, tức là đội II sẽ nghỉ vào các ngày **m**, 2**m**, 3**m**, . . . Ở ngày nghỉ, số cây chặt hạ của đội sẽ là 0. Cả hai đội bắt đầu công việc vào cùng một ngày và làm việc song song với nhau.\n",
        "\n",
        "Công việc trồng cây mới sẽ bắt đầu sau khi toàn bộ cây cũ đã bị đốn hạ.\n",
        "\n",
        "Hãy xác định sau bao nhiêu ngày thì có thể bắt đầu việc trồng mới cây.\n",
        "\n",
        "Dữ liệu: Vào từ thiết bị nhập chuẩn gồm một dòng chứa 5 số nguyên **a**, **k**, **b**, **m** và **n** (1 ≤ **a**, **b** ≤ $10^9$, 2 ≤ **k**, **m** ≤ 10$^1$$^8$, 1 ≤ n ≤   \n",
        "\n",
        "10$^1$$^8$).\n",
        "\n",
        "Kết quả: Đưa ra thiết bị xuất chuẩn một số nguyên – số ngày tính được."
      ]
    },
    {
      "cell_type": "markdown",
      "metadata": {
        "id": "DpKk4odxJ_Z2"
      },
      "source": [
        "# **I.Abstraction**\n",
        "Input: a,k,b,m,n nguyên. Tìm i min sao cho i(a+b) - a[$\\frac{i}{k}$] - b[$\\frac{i}{m}$] ≥ n ( i $\\in$ N, i > 0)"
      ]
    },
    {
      "cell_type": "markdown",
      "metadata": {
        "id": "XaaldnVCKE1t"
      },
      "source": [
        "# **II.Pattern Recognition**\n",
        "Tìm nghiệm nguyên nhỏ nhất thỏa i(a+b) - a[$\\frac{i}{k}$] - b [$\\frac{i}{m}$] ≥ n\n",
        "\n",
        "Dùng thuật toán tìm kiếm nhị phân để thu hẹp dần vùng tìm kiếm đến khi xác định được nghiệm phù hợp"
      ]
    },
    {
      "cell_type": "markdown",
      "metadata": {
        "id": "UjdJfHy_KMEG"
      },
      "source": [
        "# **III.Algorithm Design**\n",
        "Bước 1: Khởi tạo L = [$\\frac{n}{a+b}$] + 1, R = $10^18$\n",
        "\n",
        "Bước 2: Kiểm tra điều kiện dừng L ≤ R. Nếu sai thì qua bước 3 còn đúng thì gán mid = (L+R) // 2, so sánh mid*(a+b)- a[$\\frac{mid}{k}$] - b[$\\frac{mid}{m}$] với n:\n",
        "\n",
        "●Nếu kết quả lớn hơn hoặc bằng thì  i = mid, R = mid - 1\n",
        "\n",
        "●Ngược lại L = mid + 1\n",
        "\n",
        "Quay lại kiểm tra điều kiện dừng\n",
        "\n",
        "Bước 3: Xuất giá trị i là kết quả cần tìm và kết thúc chương trình"
      ]
    },
    {
      "cell_type": "markdown",
      "metadata": {
        "id": "irQAw1B8KP3d"
      },
      "source": [
        "# **IV.Độ phức tạp thuật toán**: O(log(n))"
      ]
    },
    {
      "cell_type": "markdown",
      "metadata": {
        "id": "Skaqm5-RKTTd"
      },
      "source": [
        "# **V.Programming:**"
      ]
    },
    {
      "cell_type": "code",
      "metadata": {
        "colab": {
          "base_uri": "https://localhost:8080/"
        },
        "id": "uiEUXYFQ1kws",
        "outputId": "e70501f4-4f8c-4880-9711-737a021ba715"
      },
      "source": [
        "import math\n",
        "a, k, b, m, n = [int(x) for x in input().split()]\n",
        "L = math.ceil(n / (a+b))\n",
        "R = 10**18\n",
        "while L <= R:\n",
        "    mid = (L+R) // 2\n",
        "    if mid * (a+b) - a * (mid//k) - b * (mid//m) >= n:\n",
        "        i=mid\n",
        "        R = mid - 1\n",
        "    else:\n",
        "        L = mid + 1\n",
        "print(i)"
      ],
      "execution_count": null,
      "outputs": [
        {
          "output_type": "stream",
          "text": [
            "2 4 3 3 25\n",
            "7\n"
          ],
          "name": "stdout"
        }
      ]
    }
  ]
}