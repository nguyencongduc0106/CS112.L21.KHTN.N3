{
  "nbformat": 4,
  "nbformat_minor": 0,
  "metadata": {
    "colab": {
      "name": "Hethongcapnuoc.ipynb",
      "provenance": []
    },
    "kernelspec": {
      "name": "python3",
      "display_name": "Python 3"
    },
    "language_info": {
      "name": "python"
    }
  },
  "cells": [
    {
      "cell_type": "markdown",
      "metadata": {
        "id": "bnXvapcxI9OQ"
      },
      "source": [
        "# **HỆ THỐNG CẤP NƯỚC**\n",
        "\n",
        "**ĐỀ BÀI**\n",
        "\n",
        "Vùng đất diệu kỳ Wonderland có **N** hộ gia đình đã được trang bị một hệ thống cung cấp nước sạch đến từng ngôi nhà. Mỗi đường ống nối trực tiếp 2 nhà, nước chảy trong đường ống theo 2 chiều, có thể truyền qua nhiều trung gian trước khi đến một nhà nào đó. Trong hồ sơ lưu trữ, các ngôi nhà được ghi số từ 1 đến **N**.\n",
        "\n",
        "Một trận động đất đã gây nên sự cố nghiêm trọng làm cho cả vùng bị chia cắt thành nhiều khu vực rời nhau, không còn tiếp cận được với nguồn nước. Để khắc phục, những người có trách nhiệm đã khảo sát hiện trạng và ghi nhận được toàn vùng đất đang thảm họa vẫn còn **M** đường ống đang hoạt động tốt.\n",
        "\n",
        "Nhiệm vụ đặt ra là phải khôi phục hệ thống cấp nước bằng cách lắp thêm một số đường ống. Tuy nhiên, do hạn chế về thời gian và kinh phí nên đòi hỏi phương án khôi phục phải được thực hiện với ít đường ống được lắp thêm nhất. Câu hỏi đặt ra: cần lắp thêm ít nhất bao nhiêu đường ống để hệ thống cấp nước có thể đưa nước đến từng ngôi nhà. Câu hỏi phụ: có bao nhiêu phương án khác nhau đáp ứng yêu cầu; số phương án có thể khá lớn nên chỉ cần đưa ra số dư khi chia cho $10^9$+7.\n",
        "\n",
        "**Dữ liệu:** Vào từ thiết bị nhập chuẩn:\n",
        "\n",
        "Dòng đầu tiên chứa 2 số nguyên **N**, **M** (1 ≤ **N**, **M**  ≤ $10^5$)\n",
        "\n",
        "Mỗi dòng trong **M** dòng tiếp theo chứa 2 số nguyên **a**, **b** (1 ≤ **a**,  **b** ≤ **N**). cho biết vẫn còn đường ống nối nhà **a** với nhà **b**\n",
        "\n",
        "**Kết quả:** Đưa ra thiết bị xuất chuẩn số đường ống cần được lắp thêm và số phương án đáp ứng yêu cầu (theo mô đun $10^9$+7) mỗi số trên một dòng.\n",
        "\n"
      ]
    },
    {
      "cell_type": "markdown",
      "metadata": {
        "id": "DpKk4odxJ_Z2"
      },
      "source": [
        "# **I.Abstraction**\n",
        "Cho đồ thị vô hướng có N đỉnh và M cạnh (mỗi cạnh nối 2 đỉnh bất kì), hỏi cần lắp thêm ít nhất bao nhiêu cạnh để đồ thị liên thông, và có bao nhiêu cách lắp?"
      ]
    },
    {
      "cell_type": "markdown",
      "metadata": {
        "id": "XaaldnVCKE1t"
      },
      "source": [
        "# **II.Pattern Recognition**\n",
        "Tính liên thông trong đồ thị vô hướng\n",
        "\n",
        "Để đồ thị liên thông cần số cạnh = (số khối liên thông) -1\n",
        "\n"
      ]
    },
    {
      "cell_type": "markdown",
      "metadata": {
        "id": "UjdJfHy_KMEG"
      },
      "source": [
        "# **III.Algorithm Design**\n",
        "Bước 1: Khởi tạo mảng connect 2 chiều lưu thông tính các cạnh liên kết với nhau, mảng block lưu số đỉnh của các khối liên thông, mảng kt lưu thông tin đỉnh nào duyệt rồi và chưa duyệt (=1 nếu duyệt rồi và =0 nếu chưa duyệt)\n",
        "\n",
        "Bước 2: Duyệt từng đỉnh i trong N đỉnh. Nếu kt[i] =1 thì bỏ qua, ngược lại kt[i]=0 thì gán sum=0, kiểm tra từng phần tử j trong connect[i], nếu kt[j]=1 thì bỏ qua ngược lại thì gán kt[j]=1 và sum=sum+1. Lưu giá trị sum vào mảng block. Sau khi kết thúc quá trình duyệt mảng block chứa số đỉnh của các khối liên thông\n",
        "\n",
        "Bước 3: Xuất số cạnh ít nhất = len(block)-1\n",
        "\n",
        "Bước 4: Số cách lắp= tích các khối liên thông* (n^(số khối -2))\n",
        "\n",
        "Bước 5: Xuất số cách lắp và kết thúc chương trình"
      ]
    },
    {
      "cell_type": "markdown",
      "metadata": {
        "id": "irQAw1B8KP3d"
      },
      "source": [
        "# **IV.Độ phức tạp thuật toán:** O(n)"
      ]
    },
    {
      "cell_type": "markdown",
      "metadata": {
        "id": "Skaqm5-RKTTd"
      },
      "source": [
        "# **V.Programming:**\n"
      ]
    },
    {
      "cell_type": "code",
      "metadata": {
        "colab": {
          "base_uri": "https://localhost:8080/"
        },
        "id": "tuYe4Hd-OHdb",
        "outputId": "630d5d8c-d97a-4d65-df46-cb85dc95c0e1"
      },
      "source": [
        "def bfs(i, connect, kt):\n",
        "    temp = [i]\n",
        "    sum=1\n",
        "    while len(temp) > 0:\n",
        "        i = temp.pop(0)\n",
        "        for j in connect[i]:\n",
        "            if kt[j] == 0:\n",
        "                kt[j] = 1\n",
        "                sum=sum+1\n",
        "                temp.append(j)\n",
        "    return sum\n",
        "n,m = map(int, input().split())\n",
        "kt=[0 for _ in range(n)]\n",
        "block=[]\n",
        "connect=[[] for _ in range(n)]\n",
        "for i in range(m):\n",
        "  a,b = map(int, input().split())\n",
        "  if(a<1 or b<1):continue\n",
        "  if(a>n or b>n):continue\n",
        "  connect[a-1].append(b-1)\n",
        "  connect[b-1].append(a-1)\n",
        "for i in range(n):\n",
        "  if(kt[i]==0):\n",
        "    kt[i]=1\n",
        "    dem=bfs(i,connect,kt)\n",
        "    block.append(dem)\n",
        "print(len(block)-1)\n",
        "if(len(block)==1):\n",
        "  print(0)\n",
        "else:\n",
        "  kq=1\n",
        "  for i in block:\n",
        "    kq=kq*i\n",
        "  kq=(kq*(n**(len(block)-2)))%(10**9+7)\n",
        "  print(kq)"
      ],
      "execution_count": 12,
      "outputs": [
        {
          "output_type": "stream",
          "text": [
            "3 1\n",
            "1 2\n",
            "1\n",
            "2\n"
          ],
          "name": "stdout"
        }
      ]
    }
  ]
}
