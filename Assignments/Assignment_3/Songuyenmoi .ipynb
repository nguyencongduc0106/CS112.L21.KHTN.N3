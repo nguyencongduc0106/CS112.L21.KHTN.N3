{
  "nbformat": 4,
  "nbformat_minor": 0,
  "metadata": {
    "colab": {
      "name": "Songuyenmoi.ipynb",
      "provenance": []
    },
    "kernelspec": {
      "name": "python3",
      "display_name": "Python 3"
    },
    "language_info": {
      "name": "python"
    }
  },
  "cells": [
    {
      "cell_type": "markdown",
      "metadata": {
        "id": "bnXvapcxI9OQ"
      },
      "source": [
        "# **SỐ NGUYÊN MỚI**\n",
        "\n",
        "**ĐỀ BÀI**\n",
        "\n",
        "Cho số nguyên dương **n** có không quá 100 chữ số. Hãy xác định số nguyên lớn nhất **m** chia hết cho 3 và khác **n** ở đúng một chữ số.\n",
        "\n",
        "Ví dụ, **n** = 123 thì **m** sẽ là 723.\n",
        "\n",
        "**Dữ liệu:** Vào từ thiết bị nhập chuẩn gồm một dòng chứa số nguyên **n** có không quá 100 chữ số và không chứa các số 0 không có nghĩa.\n",
        "\n",
        "**Kết quả:** Đưa ra thiết bị xuất chuẩn số nguyên **m** tìm được.\n"
      ]
    },
    {
      "cell_type": "markdown",
      "metadata": {
        "id": "DpKk4odxJ_Z2"
      },
      "source": [
        "# **I.Abstraction**\n",
        "Input: n nguyên dương. Tìm m max sao cho m%3=0 và m khác n ở 1 chữ số"
      ]
    },
    {
      "cell_type": "markdown",
      "metadata": {
        "id": "XaaldnVCKE1t"
      },
      "source": [
        "# **II.Pattern Recognition**\n",
        "Dùng giải thuật vét cạn để duyệt từng chữ số trong n tính từ chữ số hàng lớn nhất. Đến khi thu được kết quả cần tìm thoả yêu cầu thì dừng"
      ]
    },
    {
      "cell_type": "markdown",
      "metadata": {
        "id": "UjdJfHy_KMEG"
      },
      "source": [
        "# **III.Algorithm Design**\n",
        " **Bước 1:** Gán len = số chữ số của n, c = n % 3,\n",
        " m=int(n), i = 0, s = 0\n",
        "\n",
        "**Bước 2:** While (i<len):\n",
        "\n",
        "● Gán temp=int(n[i])\n",
        "\n",
        "● Nếu temp+3-c<=9 thì temp=temp+3-c, s=1\n",
        "\n",
        "● While temp<7:\n",
        "\n",
        "temp=temp+3\n",
        "\n",
        "**Bước 3:** Nếu s=0 thì: Nếu c=0 thì m=m-3 ngược lại m=m-c \n",
        "\n",
        "**Bước 4:** Xuất giá trị m và kết thúc"
      ]
    },
    {
      "cell_type": "markdown",
      "metadata": {
        "id": "irQAw1B8KP3d"
      },
      "source": [
        "# **IV.Độ phức tạp thuật toán:** O(n)"
      ]
    },
    {
      "cell_type": "markdown",
      "metadata": {
        "id": "Skaqm5-RKTTd"
      },
      "source": [
        "# **V.Programming:**"
      ]
    },
    {
      "cell_type": "code",
      "metadata": {
        "colab": {
          "base_uri": "https://localhost:8080/"
        },
        "id": "ojNQuP_X9K-w",
        "outputId": "5b7a6cc2-5ba8-4b44-de58-99a1ec6c3a12"
      },
      "source": [
        "n = input()\n",
        "m=int(n)\n",
        "c=(sum(map(int, n)))%3\n",
        "len = sum(c.isdigit() for c in n)\n",
        "i=0\n",
        "s=0\n",
        "if(m==0):\n",
        "  print(9)\n",
        "else:\n",
        "    while(i<len):\n",
        "      temp=int(n[i])\n",
        "      if(temp+3-c<=9):\n",
        "        temp=temp+3-c\n",
        "        while(temp<7):\n",
        "          temp=temp+3\n",
        "        m=m+(temp-int(n[i]))*(10**(len-1-i))\n",
        "        s=1\n",
        "        break\n",
        "      else:\n",
        "        i=i+1\n",
        "    if(s==0):\n",
        "      if(c==0):\n",
        "        m=m-3\n",
        "      else:\n",
        "        m=m-c\n",
        "    print(m)"
      ],
      "execution_count": 1,
      "outputs": [
        {
          "output_type": "stream",
          "text": [
            "123\n",
            "723\n"
          ],
          "name": "stdout"
        }
      ]
    }
  ]
}