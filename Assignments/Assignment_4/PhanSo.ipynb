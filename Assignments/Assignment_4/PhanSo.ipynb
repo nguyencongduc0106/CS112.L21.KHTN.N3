{
  "nbformat": 4,
  "nbformat_minor": 0,
  "metadata": {
    "colab": {
      "name": "PhanSo.ipynb",
      "provenance": [],
      "collapsed_sections": []
    },
    "kernelspec": {
      "name": "python3",
      "display_name": "Python 3"
    },
    "language_info": {
      "name": "python"
    }
  },
  "cells": [
    {
      "cell_type": "markdown",
      "metadata": {
        "id": "0sh1jBu_Bc1T"
      },
      "source": [
        "# **PHÂN SỐ**"
      ]
    },
    {
      "cell_type": "markdown",
      "metadata": {
        "id": "uQu3511wBfcC"
      },
      "source": [
        "# **Đề bài**\n",
        "Cho 2 phân số đúng và tối giản $\\frac{a}{b}$, $\\frac{c}{d}$. Mỗi phép biến đổi là tăng **a** và **b** lên 1, sau đó giản ước phân số nhận được.\n",
        "\n",
        "Hãy xác định sau bao nhiêu bước biến đổi từ phân số thứ nhất ban đầu nhận được phân số thứ 2 đã cho.\n",
        "\n",
        "**Dữ liệu:** Vào từ thiết bị nhập chuẩn gồm 4 dòng, mỗi dòng chứa 1 số nguyên **a**, **b**, **c**, **d**, 0 < **a** < **b** ≤$10^5$, 0 < **c** < **d** ≤ $10^5$, **a** và **b** nguyên tố cùng nhau, **c** và **d** nguyên tố cùng nhau $\\frac{a}{b}$  ≠ $\\frac{c}{d}$\n",
        "\n",
        "**Kết quả:** Đưa ra thiết bị xuất chuẩn số 0 nếu không có cách biến đổi hoặc một số nguyên – số lượng phép biến đổi."
      ]
    },
    {
      "cell_type": "markdown",
      "metadata": {
        "id": "4jgN9giDCh0c"
      },
      "source": [
        "# **I.Abstraction**\n",
        "Cho 2 phân số tối giản $\\frac{a}{b}$, $\\frac{c}{d}$. Cứ mỗi bước cộng 1 vào a và b sau đó giản ước phân số. Tìm số bước biến đổi để thu được phân số   $\\frac{c}{d}$"
      ]
    },
    {
      "cell_type": "markdown",
      "metadata": {
        "id": "Mfcc6bKTCkrS"
      },
      "source": [
        "# **II.Pattern Recognition**\n",
        "Tìm số bước biến đổi để ad=bc. Sử dụng vét cạn kiểm tra với điều kiện dừng ad<=bc. Nếu sau khi dừng mà không tìm được lời giải thì kết luận không có lời giải"
      ]
    },
    {
      "cell_type": "markdown",
      "metadata": {
        "id": "kObJ7eEgCnaD"
      },
      "source": [
        "# **III.Algorithm Design**\n",
        "**Bước 1:** Khởi tạo biến dem=0, kt=0\n",
        "\n",
        "**Bước 2:** Chạy vòng lặp với điều kiện dừng là a*d<=b*c. Mỗi lần lặp tăng biếm dem lên 1, a=a+1, b=b+1, giản ước phân số $\\frac{a}{b}$. Nếu $\\frac{a}{b}$= $\\frac{c}{d}$ thì xuất kết quả dem và dừng vòng lặp, gán biến kt=1. \n",
        "\n",
        "**Bước 3:** Sau khi vòng lặp kết thúc, kiểm tra nếu kt=0 thì xuất kết quả là 0 (trường hợp không có lời giải)\n"
      ]
    },
    {
      "cell_type": "markdown",
      "metadata": {
        "id": "wMrSHmXJKCp1"
      },
      "source": [
        "# **IV.Đánh giá độ phức tạp:** O(n)"
      ]
    },
    {
      "cell_type": "markdown",
      "metadata": {
        "id": "UUzSadoR4Jfg"
      },
      "source": [
        "# **V.Programming** "
      ]
    },
    {
      "cell_type": "code",
      "metadata": {
        "id": "D77uHaZsKGUd",
        "outputId": "cc017d10-ce00-418a-bc99-a68747f9bd12",
        "colab": {
          "base_uri": "https://localhost:8080/"
        }
      },
      "source": [
        "import math\n",
        "a = int(input())\n",
        "b = int(input())\n",
        "c = int(input())\n",
        "d = int(input())\n",
        "dem = 0\n",
        "kt=0\n",
        "while (a*d<=b*c):\n",
        "  dem=dem+1\n",
        "  a = a + 1\n",
        "  b = b + 1\n",
        "  tmp = math.gcd(a,b)\n",
        "  a = a // tmp\n",
        "  b = b // tmp\n",
        "  if (a/b)==(c/d):\n",
        "    print(dem)\n",
        "    kt=1\n",
        "    break\n",
        "if(kt==0):\n",
        "  print(0)"
      ],
      "execution_count": 7,
      "outputs": [
        {
          "output_type": "stream",
          "text": [
            "1\n",
            "6\n",
            "2\n",
            "3\n",
            "5\n"
          ],
          "name": "stdout"
        }
      ]
    }
  ]
}