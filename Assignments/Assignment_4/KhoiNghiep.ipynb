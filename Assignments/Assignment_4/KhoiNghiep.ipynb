{
  "nbformat": 4,
  "nbformat_minor": 0,
  "metadata": {
    "colab": {
      "name": "KhoiNghiep.ipynb",
      "provenance": []
    },
    "kernelspec": {
      "name": "python3",
      "display_name": "Python 3"
    },
    "language_info": {
      "name": "python"
    }
  },
  "cells": [
    {
      "cell_type": "markdown",
      "metadata": {
        "id": "0sh1jBu_Bc1T"
      },
      "source": [
        "# **KHỞI NGHIỆP**"
      ]
    },
    {
      "cell_type": "markdown",
      "metadata": {
        "id": "uQu3511wBfcC"
      },
      "source": [
        "# **Đề bài**\n",
        "Sau thời gian làm việc tại nhà (work from home) do tình hình dịch bệnh, công ty **X** nhận thấy đây là cơ hội để thay đổi mô hình làm việc của công ty để hướng tới tính đơn giản, hiệu quả cao hơn trong công việc. Cụ thể, công ty hiện tại gồm **n** nhân viên. Có **m** quan hệ dạng (**$a_i$**, **$b_i$**) trong đó người bi nhận công việc từ người **$a_i$** và **$b_i$** chỉ đạo cho **$b_i$**. Mỗi nhân viên khi nhận việc có thể phân công cho những nhân viên do mình chỉ đạo. Nếu công viêc từ **a** có thể tới được **b**, ta gọi **a** là cấp trên của **b** và **b** là cấp dưới của **a**.\n",
        "\n",
        "Sau khi họp đại hội cổ ccông trực tuyến, công ty **X** quyết định thực hiện tái cấu trúc như sau:\n",
        "\n",
        "Thứ nhất, chọn ra một giám đốc, người này phải là người không có cấp trên và công việc mà người này phân công có thể tới được mọi người trong công ty;\n",
        "Những người còn lại, mỗi người sẽ chỉ còn nhận việc trực tiếp từ đúng 1 người. Để tránh xáo trộn trong hoạt động sau khi thực hiện thay đổi, với mỗi người, tập những người là cấp trên của người đó phải không thay đổi (so với trước khi thực hiện tái cấu trúc).\n",
        "Yêu cầu: Xác định công ty X có thể tái cấu trúc hay không, nếu không được - đưa ra thông báo “**No**”. Trong trường hợp có thể – đưa ra thông báo “**Yes**” và chỉ ra dãy số **$p_i$** xác định người có quyền phân công công việc cho người i (1 ≤ **i** ≤ **n**). Với Giám đốc **$p_i$** tương ứng có giá trị là **-1**.\n",
        "\n",
        "**Dữ liệu:** Vào từ file thiết bị nhập chuẩn:\n",
        "\n",
        "Dòng đầu tiên chứa 2 số nguyên **n** và **m** (1 ≤ **n**, **m** ≤ 5×$10^5$),\n",
        "\n",
        "Dòng thứ **i** trong **m** dòng sau chứa 2 số nguyên **$a_i$** và **$b_i$** (1 ≤ **$a_i$**, **$b_i$** ≤ **n**, **$a_i$** ≠ **$b_i$**).\n",
        "\n",
        "**Kết quả:** Đưa ra thiết bị xuất chuẩn thông báo “**No**” hoặc “**Yes**”. Nếu kết quả là “**Yes**” – trên dòng thứ 2 đưa ra n số nguyên **$p_1$**, **$p_2$**, ..., **$p_n$** tương ứng."
      ]
    },
    {
      "cell_type": "markdown",
      "metadata": {
        "id": "4jgN9giDCh0c"
      },
      "source": [
        "# **I.Abstraction**"
      ]
    },
    {
      "cell_type": "markdown",
      "metadata": {
        "id": "Mfcc6bKTCkrS"
      },
      "source": [
        "# **II.Pattern Recognition**"
      ]
    },
    {
      "cell_type": "markdown",
      "metadata": {
        "id": "kObJ7eEgCnaD"
      },
      "source": [
        "# **III.Algorithm Design**"
      ]
    },
    {
      "cell_type": "markdown",
      "metadata": {
        "id": "NDbUxAlLCp-7"
      },
      "source": [
        "# **IV.Đánh giá độ phức tạp:** O(V+E)"
      ]
    },
    {
      "cell_type": "markdown",
      "metadata": {
        "id": "UUzSadoR4Jfg"
      },
      "source": [
        "# **V.Programming**"
      ]
    },
    {
      "cell_type": "code",
      "metadata": {
        "id": "CK3Hf-loB2HS"
      },
      "source": [
        "import sys\n",
        "from collections import defaultdict\n",
        "def addEdge(m_Edge, graph):\n",
        "    for i in range(m_Edge):\n",
        "        a, b = map(int, sys.stdin.readline().strip().split())\n",
        "        graph[b].append(a)\n",
        "def checkRoot(verticle, graph):\n",
        "    root = []\n",
        "    keys = graph.keys()\n",
        "    for v in range(1, verticle + 1):\n",
        "        if v not in keys:\n",
        "            root.append(v)\n",
        "            if len(root) > 1: return 0\n",
        "    \n",
        "    if root == []: return 0\n",
        "    return root[0]\n",
        "def delRootInNode(root, graph):\n",
        "    for v in graph:\n",
        "        if root in graph[v] and len(graph[v]) > 1:\n",
        "            graph[v].remove(root)\n",
        "def directValid(vertex, root, graph):\n",
        "    if root in graph[vertex] and len(graph[vertex]) > 1:\n",
        "        graph[vertex].remove(root)\n",
        "\n",
        "    for key in graph[vertex]:\n",
        "        if vertex in graph[key]:\n",
        "            return False\n",
        "    return True\n",
        "def startup(root,  graph):\n",
        "    #delRootInNode(root, graph)\n",
        "    tmp = graph.copy()\n",
        "    for vx in tmp:\n",
        "        if directValid(vx, root, graph) == False:\n",
        "            return False\n",
        "        elif len(graph[vx]) > 1:\n",
        "            return False      \n",
        "    return True\n",
        "def solution(n, m, graph):\n",
        "    addEdge(m, graph)\n",
        "    root = checkRoot(n, graph)\n",
        "    if root == 0 : print('No')\n",
        "    else:\n",
        "        if startup(root, graph) == True:\n",
        "            print('Yes')\n",
        "            graph[root].append(-1)\n",
        "            #print(graph.keys())\n",
        "            for v in range(1, n + 1):\n",
        "                sys.stdout.write(str(graph[v][0]) + \" \")\n",
        "        else: print('No')\n",
        "def IsValid(n, graph):\n",
        "    for key in graph:\n",
        "        return 0\n",
        "graph = defaultdict(list)\n",
        "n, m = map(int, sys.stdin.readline().strip().split())\n",
        "solution(n, m, graph)"
      ],
      "execution_count": null,
      "outputs": []
    }
  ]
}
