{
  "nbformat": 4,
  "nbformat_minor": 0,
  "metadata": {
    "colab": {
      "name": "Untitled0.ipynb",
      "provenance": []
    },
    "kernelspec": {
      "name": "python3",
      "display_name": "Python 3"
    },
    "language_info": {
      "name": "python"
    }
  },
  "cells": [
    {
      "cell_type": "code",
      "metadata": {
        "id": "b7xrm8QVX3Oj"
      },
      "source": [
        "def kiemtra(s):\n",
        "  for i in range(len(s),0,-1):\n",
        "    m=0\n",
        "    while(m+i<=len(s)):\n",
        "      temp=s[m:m+i]\n",
        "      temp1=temp[::-1]\n",
        "      if(temp==temp1):\n",
        "        print(i,temp)\n",
        "        return\n",
        "      else:\n",
        "        m=m+1\n",
        "  print(0)\n",
        "  return\n",
        "try:\n",
        "  s=input()\n",
        "  s=s.strip()\n",
        "  kiemtra(s)\n",
        "except EOFError:\n",
        "  print(0)"
      ],
      "execution_count": null,
      "outputs": []
    }
  ]
}