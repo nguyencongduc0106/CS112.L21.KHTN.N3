{
  "nbformat": 4,
  "nbformat_minor": 0,
  "metadata": {
    "colab": {
      "name": "Untitled1.ipynb",
      "provenance": []
    },
    "kernelspec": {
      "name": "python3",
      "display_name": "Python 3"
    },
    "language_info": {
      "name": "python"
    }
  },
  "cells": [
    {
      "cell_type": "code",
      "metadata": {
        "id": "Lp9Qyq4WCkMk"
      },
      "source": [
        "def isSafe(row, col, slashCode, backslashCode,rowLookup, slashCodeLookup,backslashCodeLookup):\n",
        "    if (slashCodeLookup[slashCode[row][col]] or backslashCodeLookup[backslashCode[row][col]] or rowLookup[row]):\n",
        "        return False\n",
        "    return True\n",
        " \n",
        "def solveNQueens(board, col, slashCode, backslashCode,rowLookup, slashCodeLookup,backslashCodeLookup):           \n",
        "    if(col >= n):\n",
        "        return True\n",
        "    for i in range(n):\n",
        "        if(isSafe(i, col, slashCode, backslashCode,rowLookup, slashCodeLookup,backslashCodeLookup)):\n",
        "            board[i][col] = 1\n",
        "            rowLookup[i] = True\n",
        "            slashCodeLookup[slashCode[i][col]] = True\n",
        "            backslashCodeLookup[backslashCode[i][col]] = True\n",
        "            if(solveNQueensUtil(board, col + 1,slashCode, backslashCode,rowLookup, slashCodeLookup,backslashCodeLookup)):\n",
        "                return True\n",
        "            board[i][col] = 0\n",
        "            rowLookup[i] = False\n",
        "            slashCodeLookup[slashCode[i][col]] = False\n",
        "            backslashCodeLookup[backslashCode[i][col]] = False\n",
        "    return False\n",
        "\n",
        "n=int(input())\n",
        "board = [[0 for i in range(n)] for j in range(n)]\n",
        "slashCode = [[0 for i in range(n)] for j in range(n)]\n",
        "backslashCode = [[0 for i in range(n)] for j in range(n)]\n",
        "rowLookup = [False] * n\n",
        "m = 2*n - 1\n",
        "slashCodeLookup = [False] * m\n",
        "backslashCodeLookup = [False] * m\n",
        "for i in range(n):\n",
        "    for j in range(n):\n",
        "        slashCode[i][j] = i + j\n",
        "        backslashCode[i][j] = i - j + 7\n",
        "if(solveNQueens(board, 0, slashCode, backslashCode,rowLookup, slashCodeLookup,backslashCodeLookup) == False):\n",
        "  print(\"No solution\")\n",
        "else:\n",
        "  for i in board:\n",
        "      print(i)\n",
        "\n",
        " "
      ],
      "execution_count": null,
      "outputs": []
    }
  ]
}