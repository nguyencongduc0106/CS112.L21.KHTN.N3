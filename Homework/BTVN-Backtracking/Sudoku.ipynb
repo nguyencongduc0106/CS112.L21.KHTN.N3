{
  "nbformat": 4,
  "nbformat_minor": 0,
  "metadata": {
    "colab": {
      "name": "sudoku.ipynb",
      "provenance": []
    },
    "kernelspec": {
      "name": "python3",
      "display_name": "Python 3"
    },
    "language_info": {
      "name": "python"
    }
  },
  "cells": [
    {
      "cell_type": "code",
      "metadata": {
        "colab": {
          "base_uri": "https://localhost:8080/"
        },
        "id": "s3rS4dOmfi5B",
        "outputId": "e1c1d991-a61c-4aa4-878b-51e516aa11b7"
      },
      "source": [
        "def row(r,v):\n",
        "  for i in range(9):\n",
        "    if(a[r][i]==v):\n",
        "      return False\n",
        "  return True\n",
        "def col(c,v):\n",
        "  for i in range(9):\n",
        "    if(a[i][c]==v):\n",
        "      return False\n",
        "  return True\n",
        "def square(r,c,v):\n",
        "  for i in range(r//3*3,(r//3*3)+3,1):\n",
        "    for j in range(c//3*3,(c//3*3)+3,1):\n",
        "      if(a[i][j]==v):\n",
        "        return False\n",
        "  return True\n",
        "def sudoku(r,c): \n",
        "  if(r==8 and c==9):\n",
        "    return True\n",
        "  elif(c==9):\n",
        "    return sudoku(r+1,0)\n",
        "  elif(a[r][c]!=0):\n",
        "    return sudoku(r,c+1)\n",
        "  else:\n",
        "    for i in range(10):\n",
        "      if(row(r,i)):\n",
        "        if(col(c,i)):\n",
        "          if(square(r,c,i)):\n",
        "            a[r][c]=i\n",
        "            if(sudoku(r,c+1)):\n",
        "              return True\n",
        "            a[r][c]=0\n",
        "    return False\n",
        "a=[\n",
        "   [0,0,0,0,0,0,0,3,0],\n",
        "   [0,9,0,6,8,0,0,0,5],\n",
        "   [0,4,2,0,1,0,6,0,0],\n",
        "   [0,2,0,8,0,0,0,0,0],\n",
        "   [0,0,1,0,0,0,0,0,0],\n",
        "   [4,0,3,0,0,0,0,0,9],\n",
        "   [0,0,0,0,0,0,0,2,0],\n",
        "   [6,8,0,1,0,0,4,0,0],\n",
        "   [0,0,0,0,0,4,0,0,3]\n",
        "                        ]\n",
        "if(sudoku(0,0)):\n",
        "  for i in a:\n",
        "    print(str(i)+\",\")\n",
        "else:\n",
        "  print(-1)\n",
        " "
      ],
      "execution_count": 6,
      "outputs": [
        {
          "output_type": "stream",
          "text": [
            "[5, 6, 8, 4, 2, 7, 9, 3, 1],\n",
            "[1, 9, 7, 6, 8, 3, 2, 4, 5],\n",
            "[3, 4, 2, 9, 1, 5, 6, 7, 8],\n",
            "[9, 2, 6, 8, 7, 1, 3, 5, 4],\n",
            "[8, 5, 1, 3, 4, 9, 7, 6, 2],\n",
            "[4, 7, 3, 2, 5, 6, 8, 1, 9],\n",
            "[7, 3, 4, 5, 9, 8, 1, 2, 6],\n",
            "[6, 8, 5, 1, 3, 2, 4, 9, 7],\n",
            "[2, 1, 9, 7, 6, 4, 5, 8, 3],\n"
          ],
          "name": "stdout"
        }
      ]
    }
  ]
}